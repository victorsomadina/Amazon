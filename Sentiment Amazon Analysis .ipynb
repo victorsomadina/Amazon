{
 "cells": [
  {
   "cell_type": "markdown",
   "id": "a4103d10",
   "metadata": {},
   "source": [
    "## Amazon Sentiment Analysis"
   ]
  },
  {
   "cell_type": "code",
   "execution_count": 1,
   "id": "7966e11c",
   "metadata": {},
   "outputs": [],
   "source": [
    "# importing necessary libraries\n",
    "import pandas as pd\n",
    "import numpy as np\n",
    "import re\n",
    "import matplotlib.pyplot as plt\n",
    "%matplotlib inline\n",
    "import seaborn as sns\n",
    "from textblob import TextBlob \n",
    "from wordcloud import WordCloud\n",
    "import warnings\n",
    "warnings.filterwarnings('ignore')"
   ]
  },
  {
   "cell_type": "code",
   "execution_count": 2,
   "id": "738318ca",
   "metadata": {},
   "outputs": [],
   "source": [
    "# pd.set_options shows us all the rows \n",
    "pd.set_option('display.max_rows', None)"
   ]
  },
  {
   "cell_type": "code",
   "execution_count": 3,
   "id": "2bfdb396",
   "metadata": {},
   "outputs": [],
   "source": [
    "Amazon = pd.read_csv('Copy of amazon.csv')"
   ]
  },
  {
   "cell_type": "markdown",
   "id": "37cfca57",
   "metadata": {},
   "source": [
    "### Data Assessment & Cleaning"
   ]
  },
  {
   "cell_type": "code",
   "execution_count": 4,
   "id": "5e8c1745",
   "metadata": {},
   "outputs": [],
   "source": [
    "Amazon_clean = Amazon.copy()"
   ]
  },
  {
   "cell_type": "code",
   "execution_count": 5,
   "id": "2434e62c",
   "metadata": {},
   "outputs": [
    {
     "data": {
      "text/html": [
       "<div>\n",
       "<style scoped>\n",
       "    .dataframe tbody tr th:only-of-type {\n",
       "        vertical-align: middle;\n",
       "    }\n",
       "\n",
       "    .dataframe tbody tr th {\n",
       "        vertical-align: top;\n",
       "    }\n",
       "\n",
       "    .dataframe thead th {\n",
       "        text-align: right;\n",
       "    }\n",
       "</style>\n",
       "<table border=\"1\" class=\"dataframe\">\n",
       "  <thead>\n",
       "    <tr style=\"text-align: right;\">\n",
       "      <th></th>\n",
       "      <th>Unnamed: 0</th>\n",
       "      <th>reviewerName</th>\n",
       "      <th>overall</th>\n",
       "      <th>reviewText</th>\n",
       "      <th>reviewTime</th>\n",
       "      <th>day_diff</th>\n",
       "      <th>helpful_yes</th>\n",
       "      <th>helpful_no</th>\n",
       "      <th>total_vote</th>\n",
       "      <th>score_pos_neg_diff</th>\n",
       "      <th>score_average_rating</th>\n",
       "      <th>wilson_lower_bound</th>\n",
       "    </tr>\n",
       "  </thead>\n",
       "  <tbody>\n",
       "    <tr>\n",
       "      <th>0</th>\n",
       "      <td>0</td>\n",
       "      <td>NaN</td>\n",
       "      <td>4</td>\n",
       "      <td>No issues.</td>\n",
       "      <td>23-07-2014</td>\n",
       "      <td>138</td>\n",
       "      <td>0</td>\n",
       "      <td>0</td>\n",
       "      <td>0</td>\n",
       "      <td>0</td>\n",
       "      <td>0.0</td>\n",
       "      <td>0.0</td>\n",
       "    </tr>\n",
       "    <tr>\n",
       "      <th>1</th>\n",
       "      <td>1</td>\n",
       "      <td>0mie</td>\n",
       "      <td>5</td>\n",
       "      <td>Purchased this for my device, it worked as adv...</td>\n",
       "      <td>25-10-2013</td>\n",
       "      <td>409</td>\n",
       "      <td>0</td>\n",
       "      <td>0</td>\n",
       "      <td>0</td>\n",
       "      <td>0</td>\n",
       "      <td>0.0</td>\n",
       "      <td>0.0</td>\n",
       "    </tr>\n",
       "    <tr>\n",
       "      <th>2</th>\n",
       "      <td>2</td>\n",
       "      <td>1K3</td>\n",
       "      <td>4</td>\n",
       "      <td>it works as expected. I should have sprung for...</td>\n",
       "      <td>23-12-2012</td>\n",
       "      <td>715</td>\n",
       "      <td>0</td>\n",
       "      <td>0</td>\n",
       "      <td>0</td>\n",
       "      <td>0</td>\n",
       "      <td>0.0</td>\n",
       "      <td>0.0</td>\n",
       "    </tr>\n",
       "    <tr>\n",
       "      <th>3</th>\n",
       "      <td>3</td>\n",
       "      <td>1m2</td>\n",
       "      <td>5</td>\n",
       "      <td>This think has worked out great.Had a diff. br...</td>\n",
       "      <td>21-11-2013</td>\n",
       "      <td>382</td>\n",
       "      <td>0</td>\n",
       "      <td>0</td>\n",
       "      <td>0</td>\n",
       "      <td>0</td>\n",
       "      <td>0.0</td>\n",
       "      <td>0.0</td>\n",
       "    </tr>\n",
       "    <tr>\n",
       "      <th>4</th>\n",
       "      <td>4</td>\n",
       "      <td>2&amp;amp;1/2Men</td>\n",
       "      <td>5</td>\n",
       "      <td>Bought it with Retail Packaging, arrived legit...</td>\n",
       "      <td>13-07-2013</td>\n",
       "      <td>513</td>\n",
       "      <td>0</td>\n",
       "      <td>0</td>\n",
       "      <td>0</td>\n",
       "      <td>0</td>\n",
       "      <td>0.0</td>\n",
       "      <td>0.0</td>\n",
       "    </tr>\n",
       "  </tbody>\n",
       "</table>\n",
       "</div>"
      ],
      "text/plain": [
       "   Unnamed: 0  reviewerName  overall  \\\n",
       "0           0           NaN        4   \n",
       "1           1          0mie        5   \n",
       "2           2           1K3        4   \n",
       "3           3           1m2        5   \n",
       "4           4  2&amp;1/2Men        5   \n",
       "\n",
       "                                          reviewText  reviewTime  day_diff  \\\n",
       "0                                         No issues.  23-07-2014       138   \n",
       "1  Purchased this for my device, it worked as adv...  25-10-2013       409   \n",
       "2  it works as expected. I should have sprung for...  23-12-2012       715   \n",
       "3  This think has worked out great.Had a diff. br...  21-11-2013       382   \n",
       "4  Bought it with Retail Packaging, arrived legit...  13-07-2013       513   \n",
       "\n",
       "   helpful_yes  helpful_no  total_vote  score_pos_neg_diff  \\\n",
       "0            0           0           0                   0   \n",
       "1            0           0           0                   0   \n",
       "2            0           0           0                   0   \n",
       "3            0           0           0                   0   \n",
       "4            0           0           0                   0   \n",
       "\n",
       "   score_average_rating  wilson_lower_bound  \n",
       "0                   0.0                 0.0  \n",
       "1                   0.0                 0.0  \n",
       "2                   0.0                 0.0  \n",
       "3                   0.0                 0.0  \n",
       "4                   0.0                 0.0  "
      ]
     },
     "execution_count": 5,
     "metadata": {},
     "output_type": "execute_result"
    }
   ],
   "source": [
    "Amazon_clean.head()"
   ]
  },
  {
   "cell_type": "markdown",
   "id": "a4c57fdf",
   "metadata": {},
   "source": [
    "1. Drop the unnamed: 0 index column \n",
    "2. Change the initials of the column headers"
   ]
  },
  {
   "cell_type": "code",
   "execution_count": 6,
   "id": "4b4815ec",
   "metadata": {},
   "outputs": [],
   "source": [
    "# drop unnamed column using .drop\n",
    "Amazon_clean.drop('Unnamed: 0', inplace = True, axis = 1)"
   ]
  },
  {
   "cell_type": "code",
   "execution_count": 7,
   "id": "2eee79e4",
   "metadata": {},
   "outputs": [
    {
     "data": {
      "text/plain": [
       "Index(['reviewerName', 'overall', 'reviewText', 'reviewTime', 'day_diff',\n",
       "       'helpful_yes', 'helpful_no', 'total_vote', 'score_pos_neg_diff',\n",
       "       'score_average_rating', 'wilson_lower_bound'],\n",
       "      dtype='object')"
      ]
     },
     "execution_count": 7,
     "metadata": {},
     "output_type": "execute_result"
    }
   ],
   "source": [
    "Amazon_clean.columns"
   ]
  },
  {
   "cell_type": "code",
   "execution_count": 8,
   "id": "9f831f9f",
   "metadata": {},
   "outputs": [],
   "source": [
    "# capitalizing initials of the column headers \n",
    "Amazon_clean.columns = Amazon_clean.columns.str.capitalize()"
   ]
  },
  {
   "cell_type": "code",
   "execution_count": 9,
   "id": "9026054b",
   "metadata": {},
   "outputs": [
    {
     "data": {
      "text/html": [
       "<div>\n",
       "<style scoped>\n",
       "    .dataframe tbody tr th:only-of-type {\n",
       "        vertical-align: middle;\n",
       "    }\n",
       "\n",
       "    .dataframe tbody tr th {\n",
       "        vertical-align: top;\n",
       "    }\n",
       "\n",
       "    .dataframe thead th {\n",
       "        text-align: right;\n",
       "    }\n",
       "</style>\n",
       "<table border=\"1\" class=\"dataframe\">\n",
       "  <thead>\n",
       "    <tr style=\"text-align: right;\">\n",
       "      <th></th>\n",
       "      <th>Reviewername</th>\n",
       "      <th>Overall</th>\n",
       "      <th>Reviewtext</th>\n",
       "      <th>Reviewtime</th>\n",
       "      <th>Day_diff</th>\n",
       "      <th>Helpful_yes</th>\n",
       "      <th>Helpful_no</th>\n",
       "      <th>Total_vote</th>\n",
       "      <th>Score_pos_neg_diff</th>\n",
       "      <th>Score_average_rating</th>\n",
       "      <th>Wilson_lower_bound</th>\n",
       "    </tr>\n",
       "  </thead>\n",
       "  <tbody>\n",
       "    <tr>\n",
       "      <th>0</th>\n",
       "      <td>NaN</td>\n",
       "      <td>4</td>\n",
       "      <td>No issues.</td>\n",
       "      <td>23-07-2014</td>\n",
       "      <td>138</td>\n",
       "      <td>0</td>\n",
       "      <td>0</td>\n",
       "      <td>0</td>\n",
       "      <td>0</td>\n",
       "      <td>0.0</td>\n",
       "      <td>0.0</td>\n",
       "    </tr>\n",
       "    <tr>\n",
       "      <th>1</th>\n",
       "      <td>0mie</td>\n",
       "      <td>5</td>\n",
       "      <td>Purchased this for my device, it worked as adv...</td>\n",
       "      <td>25-10-2013</td>\n",
       "      <td>409</td>\n",
       "      <td>0</td>\n",
       "      <td>0</td>\n",
       "      <td>0</td>\n",
       "      <td>0</td>\n",
       "      <td>0.0</td>\n",
       "      <td>0.0</td>\n",
       "    </tr>\n",
       "    <tr>\n",
       "      <th>2</th>\n",
       "      <td>1K3</td>\n",
       "      <td>4</td>\n",
       "      <td>it works as expected. I should have sprung for...</td>\n",
       "      <td>23-12-2012</td>\n",
       "      <td>715</td>\n",
       "      <td>0</td>\n",
       "      <td>0</td>\n",
       "      <td>0</td>\n",
       "      <td>0</td>\n",
       "      <td>0.0</td>\n",
       "      <td>0.0</td>\n",
       "    </tr>\n",
       "    <tr>\n",
       "      <th>3</th>\n",
       "      <td>1m2</td>\n",
       "      <td>5</td>\n",
       "      <td>This think has worked out great.Had a diff. br...</td>\n",
       "      <td>21-11-2013</td>\n",
       "      <td>382</td>\n",
       "      <td>0</td>\n",
       "      <td>0</td>\n",
       "      <td>0</td>\n",
       "      <td>0</td>\n",
       "      <td>0.0</td>\n",
       "      <td>0.0</td>\n",
       "    </tr>\n",
       "    <tr>\n",
       "      <th>4</th>\n",
       "      <td>2&amp;amp;1/2Men</td>\n",
       "      <td>5</td>\n",
       "      <td>Bought it with Retail Packaging, arrived legit...</td>\n",
       "      <td>13-07-2013</td>\n",
       "      <td>513</td>\n",
       "      <td>0</td>\n",
       "      <td>0</td>\n",
       "      <td>0</td>\n",
       "      <td>0</td>\n",
       "      <td>0.0</td>\n",
       "      <td>0.0</td>\n",
       "    </tr>\n",
       "  </tbody>\n",
       "</table>\n",
       "</div>"
      ],
      "text/plain": [
       "   Reviewername  Overall                                         Reviewtext  \\\n",
       "0           NaN        4                                         No issues.   \n",
       "1          0mie        5  Purchased this for my device, it worked as adv...   \n",
       "2           1K3        4  it works as expected. I should have sprung for...   \n",
       "3           1m2        5  This think has worked out great.Had a diff. br...   \n",
       "4  2&amp;1/2Men        5  Bought it with Retail Packaging, arrived legit...   \n",
       "\n",
       "   Reviewtime  Day_diff  Helpful_yes  Helpful_no  Total_vote  \\\n",
       "0  23-07-2014       138            0           0           0   \n",
       "1  25-10-2013       409            0           0           0   \n",
       "2  23-12-2012       715            0           0           0   \n",
       "3  21-11-2013       382            0           0           0   \n",
       "4  13-07-2013       513            0           0           0   \n",
       "\n",
       "   Score_pos_neg_diff  Score_average_rating  Wilson_lower_bound  \n",
       "0                   0                   0.0                 0.0  \n",
       "1                   0                   0.0                 0.0  \n",
       "2                   0                   0.0                 0.0  \n",
       "3                   0                   0.0                 0.0  \n",
       "4                   0                   0.0                 0.0  "
      ]
     },
     "execution_count": 9,
     "metadata": {},
     "output_type": "execute_result"
    }
   ],
   "source": [
    "Amazon_clean.head()"
   ]
  },
  {
   "cell_type": "code",
   "execution_count": 10,
   "id": "3e889f5a",
   "metadata": {},
   "outputs": [
    {
     "data": {
      "text/plain": [
       "Reviewername            1\n",
       "Overall                 0\n",
       "Reviewtext              1\n",
       "Reviewtime              0\n",
       "Day_diff                0\n",
       "Helpful_yes             0\n",
       "Helpful_no              0\n",
       "Total_vote              0\n",
       "Score_pos_neg_diff      0\n",
       "Score_average_rating    0\n",
       "Wilson_lower_bound      0\n",
       "dtype: int64"
      ]
     },
     "execution_count": 10,
     "metadata": {},
     "output_type": "execute_result"
    }
   ],
   "source": [
    "# Checking for null values \n",
    "Amazon_clean.isnull().sum()"
   ]
  },
  {
   "cell_type": "code",
   "execution_count": 11,
   "id": "b099bc94",
   "metadata": {},
   "outputs": [
    {
     "data": {
      "text/plain": [
       "0"
      ]
     },
     "execution_count": 11,
     "metadata": {},
     "output_type": "execute_result"
    }
   ],
   "source": [
    "#checking for duplicates in the dataframe \n",
    "Amazon_clean.duplicated().sum()"
   ]
  },
  {
   "cell_type": "code",
   "execution_count": 12,
   "id": "e8237702",
   "metadata": {},
   "outputs": [
    {
     "data": {
      "text/plain": [
       "2"
      ]
     },
     "execution_count": 12,
     "metadata": {},
     "output_type": "execute_result"
    }
   ],
   "source": [
    "# checking for duplicate in the review column\n",
    "Amazon_clean['Reviewtext'].duplicated().sum()"
   ]
  },
  {
   "cell_type": "code",
   "execution_count": 13,
   "id": "c88bbbba",
   "metadata": {},
   "outputs": [
    {
     "data": {
      "text/html": [
       "<div>\n",
       "<style scoped>\n",
       "    .dataframe tbody tr th:only-of-type {\n",
       "        vertical-align: middle;\n",
       "    }\n",
       "\n",
       "    .dataframe tbody tr th {\n",
       "        vertical-align: top;\n",
       "    }\n",
       "\n",
       "    .dataframe thead th {\n",
       "        text-align: right;\n",
       "    }\n",
       "</style>\n",
       "<table border=\"1\" class=\"dataframe\">\n",
       "  <thead>\n",
       "    <tr style=\"text-align: right;\">\n",
       "      <th></th>\n",
       "      <th>Reviewtext</th>\n",
       "    </tr>\n",
       "  </thead>\n",
       "  <tbody>\n",
       "    <tr>\n",
       "      <th>0</th>\n",
       "      <td>No issues.</td>\n",
       "    </tr>\n",
       "    <tr>\n",
       "      <th>309</th>\n",
       "      <td>Works fine my Virgin Mobile HTC EVO V. The pho...</td>\n",
       "    </tr>\n",
       "    <tr>\n",
       "      <th>913</th>\n",
       "      <td>Works fine my Virgin Mobile HTC EVO V. The pho...</td>\n",
       "    </tr>\n",
       "    <tr>\n",
       "      <th>3638</th>\n",
       "      <td>No issues.</td>\n",
       "    </tr>\n",
       "  </tbody>\n",
       "</table>\n",
       "</div>"
      ],
      "text/plain": [
       "                                             Reviewtext\n",
       "0                                            No issues.\n",
       "309   Works fine my Virgin Mobile HTC EVO V. The pho...\n",
       "913   Works fine my Virgin Mobile HTC EVO V. The pho...\n",
       "3638                                         No issues."
      ]
     },
     "execution_count": 13,
     "metadata": {},
     "output_type": "execute_result"
    }
   ],
   "source": [
    "# to see the rows containing this duplicates \n",
    "duplicates = Amazon_clean[['Reviewtext']][Amazon_clean['Reviewtext'].duplicated(keep=False)]\n",
    "duplicates"
   ]
  },
  {
   "cell_type": "code",
   "execution_count": 14,
   "id": "675e0170",
   "metadata": {},
   "outputs": [
    {
     "data": {
      "text/plain": [
       "\"Works fine my Virgin Mobile HTC EVO V. The phone didn't recognize it at first, but after formatting it's all good.\""
      ]
     },
     "execution_count": 14,
     "metadata": {},
     "output_type": "execute_result"
    }
   ],
   "source": [
    "Amazon_clean['Reviewtext'][913]"
   ]
  },
  {
   "cell_type": "code",
   "execution_count": 15,
   "id": "cc39514f",
   "metadata": {},
   "outputs": [],
   "source": [
    "# converting Review text column to string datatype\n",
    "Amazon_clean['Reviewtext'] = Amazon_clean['Reviewtext'].astype(str)"
   ]
  },
  {
   "cell_type": "code",
   "execution_count": 16,
   "id": "2b640e2a",
   "metadata": {},
   "outputs": [],
   "source": [
    "# generating polarity and subjectivity for the sentiments\n",
    "for index, row in Amazon_clean.iterrows(): # iterating each column for the Amazon_clean dataframe\n",
    "    text = row['Reviewtext'] # specifying the particular row to perform sentiment analysis\n",
    "    blob = TextBlob(text)\n",
    "    sentiment = blob.sentiment\n",
    "    Amazon_clean.loc[index, 'Polarity'] = sentiment.polarity\n",
    "    Amazon_clean.loc[index, 'Subjectivity'] = sentiment.subjectivity"
   ]
  },
  {
   "cell_type": "code",
   "execution_count": 17,
   "id": "6fc64c25",
   "metadata": {},
   "outputs": [
    {
     "data": {
      "text/html": [
       "<div>\n",
       "<style scoped>\n",
       "    .dataframe tbody tr th:only-of-type {\n",
       "        vertical-align: middle;\n",
       "    }\n",
       "\n",
       "    .dataframe tbody tr th {\n",
       "        vertical-align: top;\n",
       "    }\n",
       "\n",
       "    .dataframe thead th {\n",
       "        text-align: right;\n",
       "    }\n",
       "</style>\n",
       "<table border=\"1\" class=\"dataframe\">\n",
       "  <thead>\n",
       "    <tr style=\"text-align: right;\">\n",
       "      <th></th>\n",
       "      <th>Reviewername</th>\n",
       "      <th>Overall</th>\n",
       "      <th>Reviewtext</th>\n",
       "      <th>Reviewtime</th>\n",
       "      <th>Day_diff</th>\n",
       "      <th>Helpful_yes</th>\n",
       "      <th>Helpful_no</th>\n",
       "      <th>Total_vote</th>\n",
       "      <th>Score_pos_neg_diff</th>\n",
       "      <th>Score_average_rating</th>\n",
       "      <th>Wilson_lower_bound</th>\n",
       "      <th>Polarity</th>\n",
       "      <th>Subjectivity</th>\n",
       "    </tr>\n",
       "  </thead>\n",
       "  <tbody>\n",
       "    <tr>\n",
       "      <th>0</th>\n",
       "      <td>NaN</td>\n",
       "      <td>4</td>\n",
       "      <td>No issues.</td>\n",
       "      <td>23-07-2014</td>\n",
       "      <td>138</td>\n",
       "      <td>0</td>\n",
       "      <td>0</td>\n",
       "      <td>0</td>\n",
       "      <td>0</td>\n",
       "      <td>0.0</td>\n",
       "      <td>0.0</td>\n",
       "      <td>0.000000</td>\n",
       "      <td>0.000</td>\n",
       "    </tr>\n",
       "    <tr>\n",
       "      <th>1</th>\n",
       "      <td>0mie</td>\n",
       "      <td>5</td>\n",
       "      <td>Purchased this for my device, it worked as adv...</td>\n",
       "      <td>25-10-2013</td>\n",
       "      <td>409</td>\n",
       "      <td>0</td>\n",
       "      <td>0</td>\n",
       "      <td>0</td>\n",
       "      <td>0</td>\n",
       "      <td>0.0</td>\n",
       "      <td>0.0</td>\n",
       "      <td>0.200000</td>\n",
       "      <td>0.200</td>\n",
       "    </tr>\n",
       "    <tr>\n",
       "      <th>2</th>\n",
       "      <td>1K3</td>\n",
       "      <td>4</td>\n",
       "      <td>it works as expected. I should have sprung for...</td>\n",
       "      <td>23-12-2012</td>\n",
       "      <td>715</td>\n",
       "      <td>0</td>\n",
       "      <td>0</td>\n",
       "      <td>0</td>\n",
       "      <td>0</td>\n",
       "      <td>0.0</td>\n",
       "      <td>0.0</td>\n",
       "      <td>0.129167</td>\n",
       "      <td>0.525</td>\n",
       "    </tr>\n",
       "    <tr>\n",
       "      <th>3</th>\n",
       "      <td>1m2</td>\n",
       "      <td>5</td>\n",
       "      <td>This think has worked out great.Had a diff. br...</td>\n",
       "      <td>21-11-2013</td>\n",
       "      <td>382</td>\n",
       "      <td>0</td>\n",
       "      <td>0</td>\n",
       "      <td>0</td>\n",
       "      <td>0</td>\n",
       "      <td>0.0</td>\n",
       "      <td>0.0</td>\n",
       "      <td>0.000000</td>\n",
       "      <td>0.550</td>\n",
       "    </tr>\n",
       "    <tr>\n",
       "      <th>4</th>\n",
       "      <td>2&amp;amp;1/2Men</td>\n",
       "      <td>5</td>\n",
       "      <td>Bought it with Retail Packaging, arrived legit...</td>\n",
       "      <td>13-07-2013</td>\n",
       "      <td>513</td>\n",
       "      <td>0</td>\n",
       "      <td>0</td>\n",
       "      <td>0</td>\n",
       "      <td>0</td>\n",
       "      <td>0.0</td>\n",
       "      <td>0.0</td>\n",
       "      <td>0.386667</td>\n",
       "      <td>0.360</td>\n",
       "    </tr>\n",
       "  </tbody>\n",
       "</table>\n",
       "</div>"
      ],
      "text/plain": [
       "   Reviewername  Overall                                         Reviewtext  \\\n",
       "0           NaN        4                                         No issues.   \n",
       "1          0mie        5  Purchased this for my device, it worked as adv...   \n",
       "2           1K3        4  it works as expected. I should have sprung for...   \n",
       "3           1m2        5  This think has worked out great.Had a diff. br...   \n",
       "4  2&amp;1/2Men        5  Bought it with Retail Packaging, arrived legit...   \n",
       "\n",
       "   Reviewtime  Day_diff  Helpful_yes  Helpful_no  Total_vote  \\\n",
       "0  23-07-2014       138            0           0           0   \n",
       "1  25-10-2013       409            0           0           0   \n",
       "2  23-12-2012       715            0           0           0   \n",
       "3  21-11-2013       382            0           0           0   \n",
       "4  13-07-2013       513            0           0           0   \n",
       "\n",
       "   Score_pos_neg_diff  Score_average_rating  Wilson_lower_bound  Polarity  \\\n",
       "0                   0                   0.0                 0.0  0.000000   \n",
       "1                   0                   0.0                 0.0  0.200000   \n",
       "2                   0                   0.0                 0.0  0.129167   \n",
       "3                   0                   0.0                 0.0  0.000000   \n",
       "4                   0                   0.0                 0.0  0.386667   \n",
       "\n",
       "   Subjectivity  \n",
       "0         0.000  \n",
       "1         0.200  \n",
       "2         0.525  \n",
       "3         0.550  \n",
       "4         0.360  "
      ]
     },
     "execution_count": 17,
     "metadata": {},
     "output_type": "execute_result"
    }
   ],
   "source": [
    "Amazon_clean.head()"
   ]
  },
  {
   "cell_type": "code",
   "execution_count": 18,
   "id": "216b020a",
   "metadata": {},
   "outputs": [
    {
     "data": {
      "text/plain": [
       "Positive    4162\n",
       "Negative     469\n",
       "Neutral      284\n",
       "Name: Sentiment, dtype: int64"
      ]
     },
     "execution_count": 18,
     "metadata": {},
     "output_type": "execute_result"
    }
   ],
   "source": [
    "# create a sentiment column to define Neutral, Positive and Negative\n",
    "def polarity_sentiment(sentiment):\n",
    "    if sentiment > 0:\n",
    "        return 'Positive'\n",
    "    elif sentiment == 0:\n",
    "        return 'Neutral'\n",
    "    else:\n",
    "        return 'Negative'\n",
    "    \n",
    "Amazon_clean['Sentiment'] = Amazon_clean['Polarity'].apply(polarity_sentiment)\n",
    "Amazon_clean['Sentiment'].value_counts()"
   ]
  },
  {
   "cell_type": "code",
   "execution_count": 28,
   "id": "c3e61ed4",
   "metadata": {},
   "outputs": [
    {
     "data": {
      "image/png": "[encoded data removed]",
      "text/plain": [
       "<Figure size 640x480 with 1 Axes>"
      ]
     },
     "metadata": {},
     "output_type": "display_data"
    }
   ],
   "source": [
    "# creating a doughnut chart to showcase the different sentiment by percentage\n",
    "Amazon_sentiment = Amazon_clean['Sentiment'].value_counts()\n",
    "labels = ['Positive', 'Negative', 'Neutral']\n",
    "colors = ['#8B4513', '#D2691E', '#F4A460']\n",
    "inner_radius = 0.6\n",
    "\n",
    "fig, ax = plt.subplots()\n",
    "ax.pie(Amazon_sentiment, labels=labels, colors=colors, autopct='%1.1f%%', startangle=50, pctdistance=0.8)\n",
    "ax.axis('equal')\n",
    "plt.title('Amazon Sentiment Analysis')\n",
    "circle = plt.Circle((0, 0), inner_radius, color='white') # Create another circle to map out the doughnut chart\n",
    "ax.add_artist(circle)\n",
    "plt.savefig('Amazon sentiment analysis.png')"
   ]
  },
  {
   "cell_type": "markdown",
   "id": "72707a6b",
   "metadata": {},
   "source": [
    "### Comsidering other Features to support our Analysis\n",
    "\n",
    "To support the sentiment analysis performed by the Textblob algorithm, let's consider other features like Overall(rating), and review time series analysis "
   ]
  },
  {
   "cell_type": "code",
   "execution_count": 20,
   "id": "67382d8e",
   "metadata": {},
   "outputs": [
    {
     "data": {
      "text/plain": [
       "Reviewername             object\n",
       "Overall                   int64\n",
       "Reviewtext               object\n",
       "Reviewtime               object\n",
       "Day_diff                  int64\n",
       "Helpful_yes               int64\n",
       "Helpful_no                int64\n",
       "Total_vote                int64\n",
       "Score_pos_neg_diff        int64\n",
       "Score_average_rating    float64\n",
       "Wilson_lower_bound      float64\n",
       "Polarity                float64\n",
       "Subjectivity            float64\n",
       "Sentiment                object\n",
       "dtype: object"
      ]
     },
     "execution_count": 20,
     "metadata": {},
     "output_type": "execute_result"
    }
   ],
   "source": [
    "# Assessing other features \n",
    "Amazon_clean.dtypes"
   ]
  },
  {
   "cell_type": "markdown",
   "id": "467eece2",
   "metadata": {},
   "source": [
    "Review time should be in datetime datatype"
   ]
  },
  {
   "cell_type": "code",
   "execution_count": 21,
   "id": "5908eb6c",
   "metadata": {},
   "outputs": [
    {
     "data": {
      "text/plain": [
       "dtype('<M8[ns]')"
      ]
     },
     "execution_count": 21,
     "metadata": {},
     "output_type": "execute_result"
    }
   ],
   "source": [
    "# Convert to datetime datatype\n",
    "Amazon_clean['Reviewtime'] = pd.to_datetime(Amazon_clean['Reviewtime'])\n",
    "Amazon_clean['Reviewtime'].dtype"
   ]
  },
  {
   "cell_type": "code",
   "execution_count": 22,
   "id": "dee16945",
   "metadata": {},
   "outputs": [],
   "source": [
    "#Extract the year\n",
    "Amazon_clean['Review_year'] = Amazon_clean['Reviewtime'].dt.year"
   ]
  },
  {
   "cell_type": "code",
   "execution_count": 23,
   "id": "8e30c151",
   "metadata": {},
   "outputs": [],
   "source": [
    "# Extract the Month\n",
    "Amazon_clean['Review_Month'] =  Amazon_clean['Reviewtime'].dt.strftime('%b')"
   ]
  },
  {
   "cell_type": "code",
   "execution_count": 24,
   "id": "e154d878",
   "metadata": {},
   "outputs": [
    {
     "data": {
      "text/html": [
       "<div>\n",
       "<style scoped>\n",
       "    .dataframe tbody tr th:only-of-type {\n",
       "        vertical-align: middle;\n",
       "    }\n",
       "\n",
       "    .dataframe tbody tr th {\n",
       "        vertical-align: top;\n",
       "    }\n",
       "\n",
       "    .dataframe thead th {\n",
       "        text-align: right;\n",
       "    }\n",
       "</style>\n",
       "<table border=\"1\" class=\"dataframe\">\n",
       "  <thead>\n",
       "    <tr style=\"text-align: right;\">\n",
       "      <th></th>\n",
       "      <th>Reviewername</th>\n",
       "      <th>Overall</th>\n",
       "      <th>Reviewtext</th>\n",
       "      <th>Reviewtime</th>\n",
       "      <th>Day_diff</th>\n",
       "      <th>Helpful_yes</th>\n",
       "      <th>Helpful_no</th>\n",
       "      <th>Total_vote</th>\n",
       "      <th>Score_pos_neg_diff</th>\n",
       "      <th>Score_average_rating</th>\n",
       "      <th>Wilson_lower_bound</th>\n",
       "      <th>Polarity</th>\n",
       "      <th>Subjectivity</th>\n",
       "      <th>Sentiment</th>\n",
       "      <th>Review_year</th>\n",
       "      <th>Review_Month</th>\n",
       "    </tr>\n",
       "  </thead>\n",
       "  <tbody>\n",
       "    <tr>\n",
       "      <th>0</th>\n",
       "      <td>NaN</td>\n",
       "      <td>4</td>\n",
       "      <td>No issues.</td>\n",
       "      <td>2014-07-23</td>\n",
       "      <td>138</td>\n",
       "      <td>0</td>\n",
       "      <td>0</td>\n",
       "      <td>0</td>\n",
       "      <td>0</td>\n",
       "      <td>0.0</td>\n",
       "      <td>0.0</td>\n",
       "      <td>0.000000</td>\n",
       "      <td>0.000</td>\n",
       "      <td>Neutral</td>\n",
       "      <td>2014</td>\n",
       "      <td>Jul</td>\n",
       "    </tr>\n",
       "    <tr>\n",
       "      <th>1</th>\n",
       "      <td>0mie</td>\n",
       "      <td>5</td>\n",
       "      <td>Purchased this for my device, it worked as adv...</td>\n",
       "      <td>2013-10-25</td>\n",
       "      <td>409</td>\n",
       "      <td>0</td>\n",
       "      <td>0</td>\n",
       "      <td>0</td>\n",
       "      <td>0</td>\n",
       "      <td>0.0</td>\n",
       "      <td>0.0</td>\n",
       "      <td>0.200000</td>\n",
       "      <td>0.200</td>\n",
       "      <td>Positive</td>\n",
       "      <td>2013</td>\n",
       "      <td>Oct</td>\n",
       "    </tr>\n",
       "    <tr>\n",
       "      <th>2</th>\n",
       "      <td>1K3</td>\n",
       "      <td>4</td>\n",
       "      <td>it works as expected. I should have sprung for...</td>\n",
       "      <td>2012-12-23</td>\n",
       "      <td>715</td>\n",
       "      <td>0</td>\n",
       "      <td>0</td>\n",
       "      <td>0</td>\n",
       "      <td>0</td>\n",
       "      <td>0.0</td>\n",
       "      <td>0.0</td>\n",
       "      <td>0.129167</td>\n",
       "      <td>0.525</td>\n",
       "      <td>Positive</td>\n",
       "      <td>2012</td>\n",
       "      <td>Dec</td>\n",
       "    </tr>\n",
       "    <tr>\n",
       "      <th>3</th>\n",
       "      <td>1m2</td>\n",
       "      <td>5</td>\n",
       "      <td>This think has worked out great.Had a diff. br...</td>\n",
       "      <td>2013-11-21</td>\n",
       "      <td>382</td>\n",
       "      <td>0</td>\n",
       "      <td>0</td>\n",
       "      <td>0</td>\n",
       "      <td>0</td>\n",
       "      <td>0.0</td>\n",
       "      <td>0.0</td>\n",
       "      <td>0.000000</td>\n",
       "      <td>0.550</td>\n",
       "      <td>Neutral</td>\n",
       "      <td>2013</td>\n",
       "      <td>Nov</td>\n",
       "    </tr>\n",
       "    <tr>\n",
       "      <th>4</th>\n",
       "      <td>2&amp;amp;1/2Men</td>\n",
       "      <td>5</td>\n",
       "      <td>Bought it with Retail Packaging, arrived legit...</td>\n",
       "      <td>2013-07-13</td>\n",
       "      <td>513</td>\n",
       "      <td>0</td>\n",
       "      <td>0</td>\n",
       "      <td>0</td>\n",
       "      <td>0</td>\n",
       "      <td>0.0</td>\n",
       "      <td>0.0</td>\n",
       "      <td>0.386667</td>\n",
       "      <td>0.360</td>\n",
       "      <td>Positive</td>\n",
       "      <td>2013</td>\n",
       "      <td>Jul</td>\n",
       "    </tr>\n",
       "  </tbody>\n",
       "</table>\n",
       "</div>"
      ],
      "text/plain": [
       "   Reviewername  Overall                                         Reviewtext  \\\n",
       "0           NaN        4                                         No issues.   \n",
       "1          0mie        5  Purchased this for my device, it worked as adv...   \n",
       "2           1K3        4  it works as expected. I should have sprung for...   \n",
       "3           1m2        5  This think has worked out great.Had a diff. br...   \n",
       "4  2&amp;1/2Men        5  Bought it with Retail Packaging, arrived legit...   \n",
       "\n",
       "  Reviewtime  Day_diff  Helpful_yes  Helpful_no  Total_vote  \\\n",
       "0 2014-07-23       138            0           0           0   \n",
       "1 2013-10-25       409            0           0           0   \n",
       "2 2012-12-23       715            0           0           0   \n",
       "3 2013-11-21       382            0           0           0   \n",
       "4 2013-07-13       513            0           0           0   \n",
       "\n",
       "   Score_pos_neg_diff  Score_average_rating  Wilson_lower_bound  Polarity  \\\n",
       "0                   0                   0.0                 0.0  0.000000   \n",
       "1                   0                   0.0                 0.0  0.200000   \n",
       "2                   0                   0.0                 0.0  0.129167   \n",
       "3                   0                   0.0                 0.0  0.000000   \n",
       "4                   0                   0.0                 0.0  0.386667   \n",
       "\n",
       "   Subjectivity Sentiment  Review_year Review_Month  \n",
       "0         0.000   Neutral         2014          Jul  \n",
       "1         0.200  Positive         2013          Oct  \n",
       "2         0.525  Positive         2012          Dec  \n",
       "3         0.550   Neutral         2013          Nov  \n",
       "4         0.360  Positive         2013          Jul  "
      ]
     },
     "execution_count": 24,
     "metadata": {},
     "output_type": "execute_result"
    }
   ],
   "source": [
    "Amazon_clean.head()"
   ]
  },
  {
   "cell_type": "code",
   "execution_count": 25,
   "id": "32cd1ddf",
   "metadata": {},
   "outputs": [
    {
     "data": {
      "text/plain": [
       "2012     501\n",
       "2014    1736\n",
       "2013    2678\n",
       "Name: Review_year, dtype: int64"
      ]
     },
     "execution_count": 25,
     "metadata": {},
     "output_type": "execute_result"
    }
   ],
   "source": [
    "number_of_review_by_year = Amazon_clean['Review_year'].value_counts().sort_values(ascending = True)\n",
    "number_of_review_by_year"
   ]
  },
  {
   "cell_type": "code",
   "execution_count": 26,
   "id": "eb06643e",
   "metadata": {},
   "outputs": [
    {
     "data": {
      "image/png": "[encoded data removed]",
      "text/plain": [
       "<Figure size 400x400 with 1 Axes>"
      ]
     },
     "metadata": {},
     "output_type": "display_data"
    }
   ],
   "source": [
    "plt.figure(figsize=(4,4))\n",
    "\n",
    "number_of_review_by_year.plot(kind = 'barh', color = '#8B4513')\n",
    "ax = plt.gca()\n",
    "ax.spines['top'].set_visible(False)\n",
    "ax.spines['right'].set_visible(False)\n",
    "ax.spines['bottom'].set_visible(False)\n",
    "plt.ylabel('Year')\n",
    "plt.tick_params(bottom = False)\n",
    "plt.title('Reviews Accumulated by Year', loc = 'left', pad=30)\n",
    "plt.xlabel('Reviews')\n",
    "plt.show()"
   ]
  },
  {
   "cell_type": "code",
   "execution_count": 27,
   "id": "c6069b22",
   "metadata": {},
   "outputs": [
    {
     "data": {
      "image/png": "[encoded data removed]",
      "text/plain": [
       "<Figure size 600x400 with 1 Axes>"
      ]
     },
     "metadata": {},
     "output_type": "display_data"
    }
   ],
   "source": [
    "# Analysing ratings \n",
    "Amazon_overall = Amazon_clean['Overall'].value_counts()\n",
    "Amazon_overall.plot(kind='bar',color='grey', figsize=(6, 4))\n",
    "\n",
    "# Get the current Axes object\n",
    "ax = plt.gca()\n",
    "\n",
    "# Customize the plot using matplotlib methods\n",
    "location = ['left', 'right', 'top', 'bottom']\n",
    "ax.set_yticks([])\n",
    "for i in ax.containers:\n",
    "    ax.bar_label(i, label_type = 'edge', fontsize=12)\n",
    "for l in location:\n",
    "    ax.spines[l].set_visible(False)\n",
    "ax.tick_params(bottom=False, left=False)\n",
    "ax.set_title('Rating', fontsize=14, loc='left', pad=30)\n",
    "ax.patches[0].set_facecolor('#8B4513')\n",
    "\n",
    "plt.show()\n"
   ]
  },
  {
   "cell_type": "markdown",
   "id": "33a2b037",
   "metadata": {},
   "source": [
    "In conclusion, from the analysis above, most customers gave good reviews or positive and ratings on Amazon products."
   ]
  },
  {
   "cell_type": "code",
   "execution_count": null,
   "id": "90d10435",
   "metadata": {},
   "outputs": [],
   "source": []
  }
 ],
 "metadata": {
  "kernelspec": {
   "display_name": "Python 3 (ipykernel)",
   "language": "python",
   "name": "python3"
  },
  "language_info": {
   "codemirror_mode": {
    "name": "ipython",
    "version": 3
   },
   "file_extension": ".py",
   "mimetype": "text/x-python",
   "name": "python",
   "nbconvert_exporter": "python",
   "pygments_lexer": "ipython3",
   "version": "3.10.9"
  }
 },
 "nbformat": 4,
 "nbformat_minor": 5
}
